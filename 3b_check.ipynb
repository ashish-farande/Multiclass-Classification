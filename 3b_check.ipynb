{
 "cells": [
  {
   "cell_type": "markdown",
   "id": "9271e159",
   "metadata": {},
   "source": [
    "# check softmax correctness"
   ]
  },
  {
   "cell_type": "code",
   "execution_count": 1,
   "id": "390e76ce",
   "metadata": {},
   "outputs": [],
   "source": [
    "\n",
    "from neuralnet import *\n",
    "import scipy.special"
   ]
  },
  {
   "cell_type": "code",
   "execution_count": 2,
   "id": "9111942e",
   "metadata": {},
   "outputs": [],
   "source": [
    "# check softmax\n",
    "x = np.random.normal(1,1,size = (5,10))\n",
    "y_ = softmax(x)"
   ]
  },
  {
   "cell_type": "code",
   "execution_count": 3,
   "id": "b4389f94",
   "metadata": {},
   "outputs": [
    {
     "data": {
      "text/plain": [
       "array([1., 1., 1., 1., 1.])"
      ]
     },
     "execution_count": 3,
     "metadata": {},
     "output_type": "execute_result"
    }
   ],
   "source": [
    "np.sum(y_, axis = 1)"
   ]
  },
  {
   "cell_type": "code",
   "execution_count": 4,
   "id": "8fdeafbc",
   "metadata": {},
   "outputs": [],
   "source": [
    "y_scipy = scipy.special.softmax(x, axis = 1)"
   ]
  },
  {
   "cell_type": "code",
   "execution_count": 5,
   "id": "69018130",
   "metadata": {},
   "outputs": [
    {
     "data": {
      "text/plain": [
       "array([1., 1., 1., 1., 1.])"
      ]
     },
     "execution_count": 5,
     "metadata": {},
     "output_type": "execute_result"
    }
   ],
   "source": [
    "np.sum(y_scipy, axis = 1)"
   ]
  },
  {
   "cell_type": "code",
   "execution_count": 6,
   "id": "8a386a9a",
   "metadata": {},
   "outputs": [
    {
     "data": {
      "text/plain": [
       "<matplotlib.collections.PathCollection at 0x2b77cebc5d50>"
      ]
     },
     "execution_count": 6,
     "metadata": {},
     "output_type": "execute_result"
    },
    {
     "data": {
      "image/png": "[encoded data removed]",
      "text/plain": [
       "<Figure size 432x288 with 1 Axes>"
      ]
     },
     "metadata": {
      "needs_background": "light"
     },
     "output_type": "display_data"
    }
   ],
   "source": [
    "import matplotlib.pyplot as plt\n",
    "plt.scatter(y_scipy.reshape(50), y_.reshape(50))"
   ]
  },
  {
   "cell_type": "code",
   "execution_count": 7,
   "id": "b4f575f6",
   "metadata": {},
   "outputs": [],
   "source": [
    "# check neural network"
   ]
  },
  {
   "cell_type": "code",
   "execution_count": 8,
   "id": "d13eae5c",
   "metadata": {},
   "outputs": [],
   "source": [
    "c = load_config('config.yaml')"
   ]
  },
  {
   "cell_type": "code",
   "execution_count": 9,
   "id": "b82c74a4",
   "metadata": {},
   "outputs": [],
   "source": [
    "nn=Neuralnetwork(c)"
   ]
  },
  {
   "cell_type": "code",
   "execution_count": 10,
   "id": "0d525919",
   "metadata": {},
   "outputs": [
    {
     "data": {
      "text/plain": [
       "[<neuralnet.Layer at 0x2b77d2b823d0>,\n",
       " <neuralnet.Activation at 0x2b77cebc5ad0>,\n",
       " <neuralnet.Layer at 0x2b77d2b82310>,\n",
       " <neuralnet.Activation at 0x2b77d2b82390>,\n",
       " <neuralnet.Layer at 0x2b77d2b82350>]"
      ]
     },
     "execution_count": 10,
     "metadata": {},
     "output_type": "execute_result"
    }
   ],
   "source": [
    "nn.layers # layers does not contain softmax"
   ]
  },
  {
   "cell_type": "code",
   "execution_count": 11,
   "id": "65043392",
   "metadata": {},
   "outputs": [
    {
     "data": {
      "text/plain": [
       "0.005"
      ]
     },
     "execution_count": 11,
     "metadata": {},
     "output_type": "execute_result"
    }
   ],
   "source": [
    "c['learning_rate']"
   ]
  },
  {
   "cell_type": "code",
   "execution_count": 12,
   "id": "eb8270ba",
   "metadata": {},
   "outputs": [
    {
     "name": "stdout",
     "output_type": "stream",
     "text": [
      "(3072, 64)\n",
      "tanh\n",
      "(64, 64)\n",
      "tanh\n",
      "(64, 10)\n"
     ]
    }
   ],
   "source": [
    "for l in nn.layers:\n",
    "    try:\n",
    "        print(l.w.shape)\n",
    "    except:\n",
    "        print(l.activation_type)"
   ]
  },
  {
   "cell_type": "markdown",
   "id": "18ed4c41",
   "metadata": {},
   "source": [
    "# Check forward correctness"
   ]
  },
  {
   "cell_type": "code",
   "execution_count": 13,
   "id": "c0a67bf1",
   "metadata": {},
   "outputs": [
    {
     "data": {
      "text/plain": [
       "(5, 3072)"
      ]
     },
     "execution_count": 13,
     "metadata": {},
     "output_type": "execute_result"
    }
   ],
   "source": [
    "from dataloader import *\n",
    "d = DataLoader() # data loader does everything for u\n",
    "\n",
    "tiny_subset = d.X_train[:5, :]\n",
    "tiny_subset.shape"
   ]
  },
  {
   "cell_type": "code",
   "execution_count": 14,
   "id": "a1aa9e0a",
   "metadata": {},
   "outputs": [],
   "source": [
    "y_hat = nn.forward(tiny_subset)"
   ]
  },
  {
   "cell_type": "code",
   "execution_count": 15,
   "id": "ecf3fb55",
   "metadata": {},
   "outputs": [
    {
     "data": {
      "text/plain": [
       "array([1., 1., 1., 1., 1.])"
      ]
     },
     "execution_count": 15,
     "metadata": {},
     "output_type": "execute_result"
    }
   ],
   "source": [
    "np.sum(y_hat,axis = 1)"
   ]
  },
  {
   "cell_type": "code",
   "execution_count": 16,
   "id": "33c3ed9d",
   "metadata": {},
   "outputs": [
    {
     "data": {
      "text/plain": [
       "array([[8.85929411e-08, 2.11489750e-07, 2.75820895e-11, 6.97966569e-11,\n",
       "        9.99999562e-01, 3.28654736e-08, 1.96068089e-08, 1.38979325e-10,\n",
       "        6.39619276e-08, 2.13541679e-08],\n",
       "       [2.91235098e-01, 1.76728375e-04, 1.86242249e-04, 3.85357396e-01,\n",
       "        2.12263562e-02, 6.31186557e-07, 2.91624933e-02, 2.72026192e-01,\n",
       "        2.32918115e-07, 6.28629065e-04],\n",
       "       [1.51891851e-15, 9.99997198e-01, 3.58010373e-09, 3.86224584e-07,\n",
       "        1.80057522e-06, 8.94528678e-12, 4.30468514e-11, 6.11263492e-07,\n",
       "        7.81361857e-11, 4.19242916e-10],\n",
       "       [2.35769600e-08, 6.91006605e-04, 6.03698281e-05, 4.00893594e-05,\n",
       "        4.45173740e-05, 9.85547061e-01, 6.50685865e-09, 1.30282352e-02,\n",
       "        2.28384667e-05, 5.65852362e-04],\n",
       "       [1.11951544e-11, 7.27331659e-02, 2.20799650e-02, 8.74404122e-02,\n",
       "        7.69916524e-06, 1.54653164e-08, 1.94045664e-05, 1.76992635e-05,\n",
       "        7.46424715e-04, 8.16955214e-01]])"
      ]
     },
     "execution_count": 16,
     "metadata": {},
     "output_type": "execute_result"
    }
   ],
   "source": [
    "y_hat"
   ]
  },
  {
   "cell_type": "code",
   "execution_count": 17,
   "id": "8cb1f033",
   "metadata": {},
   "outputs": [
    {
     "data": {
      "text/plain": [
       "(5, 64)"
      ]
     },
     "execution_count": 17,
     "metadata": {},
     "output_type": "execute_result"
    }
   ],
   "source": [
    "l.x.shape"
   ]
  },
  {
   "cell_type": "code",
   "execution_count": 18,
   "id": "130908f9",
   "metadata": {},
   "outputs": [
    {
     "data": {
      "text/plain": [
       "(5, 10)"
      ]
     },
     "execution_count": 18,
     "metadata": {},
     "output_type": "execute_result"
    }
   ],
   "source": [
    "l.a.shape # "
   ]
  },
  {
   "cell_type": "markdown",
   "id": "a647d120",
   "metadata": {},
   "source": [
    "# cross entropy"
   ]
  },
  {
   "cell_type": "code",
   "execution_count": 19,
   "id": "f14eebfd",
   "metadata": {},
   "outputs": [
    {
     "data": {
      "text/plain": [
       "85.57981005987976"
      ]
     },
     "execution_count": 19,
     "metadata": {},
     "output_type": "execute_result"
    }
   ],
   "source": [
    "nn.loss(y_hat, d.y_train[:5, :])"
   ]
  },
  {
   "cell_type": "code",
   "execution_count": 20,
   "id": "70a7cdec",
   "metadata": {},
   "outputs": [
    {
     "data": {
      "text/plain": [
       "85.57981005987976"
      ]
     },
     "execution_count": 20,
     "metadata": {},
     "output_type": "execute_result"
    }
   ],
   "source": [
    "cross_entropy(d.y_train[:5, :],y_hat)"
   ]
  },
  {
   "cell_type": "code",
   "execution_count": 21,
   "id": "b40743e2",
   "metadata": {},
   "outputs": [],
   "source": [
    "def cross_entropy_2(predictions, targets, epsilon=1e-11):\n",
    "    \"\"\"\n",
    "    Computes cross entropy between targets (encoded as one-hot vectors)\n",
    "    and predictions. \n",
    "    Input: predictions (N, k) ndarray\n",
    "           targets (N, k) ndarray        \n",
    "    Returns: scalar\n",
    "    \"\"\"\n",
    "    predictions = np.clip(predictions, epsilon, 1. - epsilon)\n",
    "    N = predictions.shape[0]\n",
    "    ce = -np.sum(targets*np.log(predictions))/N\n",
    "    return ce"
   ]
  },
  {
   "cell_type": "code",
   "execution_count": 22,
   "id": "50b858de",
   "metadata": {},
   "outputs": [
    {
     "data": {
      "text/plain": [
       "17.115962011975952"
      ]
     },
     "execution_count": 22,
     "metadata": {},
     "output_type": "execute_result"
    }
   ],
   "source": [
    "cross_entropy_2(y_hat, d.y_train[:5, :])"
   ]
  },
  {
   "cell_type": "markdown",
   "id": "4b4bfaf3",
   "metadata": {},
   "source": [
    "# check forward"
   ]
  },
  {
   "cell_type": "code",
   "execution_count": 23,
   "id": "1182934d",
   "metadata": {},
   "outputs": [],
   "source": [
    "test_layer = Layer(3,1)\n",
    "test_x = np.array([[1,1,1], [0,0,1]])"
   ]
  },
  {
   "cell_type": "code",
   "execution_count": 24,
   "id": "a1b2ff8f",
   "metadata": {},
   "outputs": [
    {
     "data": {
      "text/plain": [
       "(2, 3)"
      ]
     },
     "execution_count": 24,
     "metadata": {},
     "output_type": "execute_result"
    }
   ],
   "source": [
    "test_x.shape"
   ]
  },
  {
   "cell_type": "code",
   "execution_count": 25,
   "id": "38497b73",
   "metadata": {},
   "outputs": [
    {
     "data": {
      "text/plain": [
       "array([[2.52916825],\n",
       "       [2.17071839]])"
      ]
     },
     "execution_count": 25,
     "metadata": {},
     "output_type": "execute_result"
    }
   ],
   "source": [
    "test_layer.forward(test_x)"
   ]
  },
  {
   "cell_type": "code",
   "execution_count": 26,
   "id": "bbb741c7",
   "metadata": {},
   "outputs": [
    {
     "data": {
      "text/plain": [
       "array([2.52916825])"
      ]
     },
     "execution_count": 26,
     "metadata": {},
     "output_type": "execute_result"
    }
   ],
   "source": [
    "test_layer.w.sum()+test_layer.b"
   ]
  },
  {
   "cell_type": "code",
   "execution_count": 27,
   "id": "487852e3",
   "metadata": {},
   "outputs": [
    {
     "data": {
      "text/plain": [
       "array([2.17071839])"
      ]
     },
     "execution_count": 27,
     "metadata": {},
     "output_type": "execute_result"
    }
   ],
   "source": [
    "test_layer.w[-1]+test_layer.b"
   ]
  },
  {
   "cell_type": "code",
   "execution_count": null,
   "id": "70e416e3",
   "metadata": {},
   "outputs": [],
   "source": []
  },
  {
   "cell_type": "markdown",
   "id": "c9057cb1",
   "metadata": {},
   "source": [
    "# Figure that fucking gradient\n",
    "\n"
   ]
  },
  {
   "cell_type": "code",
   "execution_count": 28,
   "id": "e9270c7b",
   "metadata": {},
   "outputs": [],
   "source": [
    "delta_k = nn.targets - nn.y #n_sample * n_category with respect to output layer "
   ]
  },
  {
   "cell_type": "code",
   "execution_count": 29,
   "id": "44defd62",
   "metadata": {},
   "outputs": [
    {
     "data": {
      "text/plain": [
       "(5, 10)"
      ]
     },
     "execution_count": 29,
     "metadata": {},
     "output_type": "execute_result"
    }
   ],
   "source": [
    "delta_k.shape"
   ]
  },
  {
   "cell_type": "code",
   "execution_count": 30,
   "id": "6916159d",
   "metadata": {},
   "outputs": [],
   "source": [
    "l = nn.layers[-1]\n",
    "gradient_jk = l.x.T @ delta_k"
   ]
  },
  {
   "cell_type": "code",
   "execution_count": 31,
   "id": "e1ab2447",
   "metadata": {},
   "outputs": [
    {
     "data": {
      "text/plain": [
       "(5, 64)"
      ]
     },
     "execution_count": 31,
     "metadata": {},
     "output_type": "execute_result"
    }
   ],
   "source": [
    "l.x.shape"
   ]
  },
  {
   "cell_type": "code",
   "execution_count": 32,
   "id": "4ee4c1f2",
   "metadata": {},
   "outputs": [
    {
     "data": {
      "text/plain": [
       "(64, 10)"
      ]
     },
     "execution_count": 32,
     "metadata": {},
     "output_type": "execute_result"
    }
   ],
   "source": [
    "gradient_jk.shape"
   ]
  },
  {
   "cell_type": "code",
   "execution_count": 33,
   "id": "726418b7",
   "metadata": {},
   "outputs": [
    {
     "data": {
      "text/plain": [
       "(64, 10)"
      ]
     },
     "execution_count": 33,
     "metadata": {},
     "output_type": "execute_result"
    }
   ],
   "source": [
    "l.w.shape"
   ]
  },
  {
   "cell_type": "code",
   "execution_count": 34,
   "id": "a291fbd7",
   "metadata": {},
   "outputs": [],
   "source": [
    "## back to the activation\n",
    "activation = nn.layers[-2]"
   ]
  },
  {
   "cell_type": "code",
   "execution_count": 35,
   "id": "9b97fee6",
   "metadata": {},
   "outputs": [],
   "source": [
    "g_prime_a = activation.grad_tanh()"
   ]
  },
  {
   "cell_type": "code",
   "execution_count": 36,
   "id": "bfc75bf8",
   "metadata": {},
   "outputs": [
    {
     "data": {
      "text/plain": [
       "(5, 64)"
      ]
     },
     "execution_count": 36,
     "metadata": {},
     "output_type": "execute_result"
    }
   ],
   "source": [
    "g_prime_a.shape # after output"
   ]
  },
  {
   "cell_type": "code",
   "execution_count": 37,
   "id": "a8f653c0",
   "metadata": {},
   "outputs": [],
   "source": [
    "delta_j = delta_k @ l.w.T # (5*10) (64*10)"
   ]
  },
  {
   "cell_type": "code",
   "execution_count": 38,
   "id": "038cb277",
   "metadata": {},
   "outputs": [
    {
     "data": {
      "text/plain": [
       "(5, 64)"
      ]
     },
     "execution_count": 38,
     "metadata": {},
     "output_type": "execute_result"
    }
   ],
   "source": [
    "delta_j.shape"
   ]
  },
  {
   "cell_type": "code",
   "execution_count": 39,
   "id": "0d11b91c",
   "metadata": {},
   "outputs": [
    {
     "data": {
      "text/plain": [
       "array([[ 8.23721025e-08,  0.00000000e+00,  1.97711384e+00,\n",
       "        -2.15249776e-04,  1.65838923e+00, -5.63156342e-04,\n",
       "        -1.87974283e-01,  2.55841063e-05,  5.38731917e-01,\n",
       "         4.93734111e-07, -1.31648993e-03, -3.67662433e-09,\n",
       "         1.94718538e-01, -1.72142439e-10, -1.32108453e-14,\n",
       "        -4.37979778e-09, -6.76067580e-01, -7.26546796e-02,\n",
       "         8.37186716e-01, -1.30307328e-13,  9.60403518e-01,\n",
       "         8.79314956e-01,  7.23617031e-04, -1.27644993e-15,\n",
       "         1.90269596e-04,  4.21570834e-06, -5.90216222e-08,\n",
       "         1.16505391e-02, -2.87876380e-08, -3.94574596e-02,\n",
       "        -9.88792072e-02, -2.47769155e-10,  4.11500864e-04,\n",
       "        -9.13107135e-03, -5.73626124e-04,  2.29164600e-06,\n",
       "        -5.08045495e-03, -1.84949353e-02, -1.67670679e-06,\n",
       "        -1.83126219e-04, -7.24683720e-10,  9.12617729e-02,\n",
       "         1.41351593e+00, -2.59051713e-08,  1.59720158e-13,\n",
       "         4.48338706e-03,  1.51210354e-05, -5.94698514e-01,\n",
       "         1.86969246e-04, -4.22088483e-06,  3.28252271e-02,\n",
       "         1.50107658e-03, -2.60656167e-01,  2.70824562e-06,\n",
       "         2.20312815e-15, -1.11903765e-05, -2.03364472e-02,\n",
       "        -2.46254125e-01,  1.50758085e-01, -3.29409924e-02,\n",
       "         1.27517641e-11, -2.25933132e-06, -6.78535592e-12,\n",
       "        -2.10470948e-02],\n",
       "       [-6.72187516e-03,  3.98034521e-05,  2.15419879e-04,\n",
       "         4.41583990e-08,  2.81230446e-04,  1.24489851e-04,\n",
       "        -4.33188726e-07, -5.04166107e-11, -8.83920522e-08,\n",
       "         3.78304251e-02, -3.76817985e-03, -3.20319297e-03,\n",
       "         1.11893275e-05, -2.39992255e-07,  1.29745129e-01,\n",
       "        -1.48368596e-04, -1.32025293e-06, -2.45490048e-01,\n",
       "         7.65454890e-08,  4.45647511e-15, -2.22967714e-01,\n",
       "         2.50787070e-02,  1.91533268e-03, -4.61858117e-08,\n",
       "        -9.62856802e-06, -9.11531978e-04,  8.77532670e-05,\n",
       "         6.41161252e-06,  3.35707594e-01, -3.69289180e-12,\n",
       "        -1.83484579e-02, -5.11115111e-03, -9.15753062e-03,\n",
       "         2.48972132e-12,  6.92779950e-05,  3.57951716e-01,\n",
       "         2.48903633e-12, -9.96743346e-05, -2.94389299e-01,\n",
       "        -9.80017951e-13, -1.35383589e-11, -6.45809106e-02,\n",
       "         4.95783550e-01, -8.01318958e-08,  7.35863672e-02,\n",
       "         2.01212766e-03,  5.10782921e-07, -5.10198607e-04,\n",
       "         4.72760554e-14,  1.65568213e-10,  9.47603716e-06,\n",
       "         2.23904584e-01, -7.05662337e-07,  8.94909326e-12,\n",
       "         7.63388472e-14,  7.02783584e-11,  1.36132125e-04,\n",
       "        -5.68153022e-06, -9.35919515e-11,  1.55561638e-09,\n",
       "         2.14284743e-14,  1.23025483e-07, -1.48497855e-08,\n",
       "        -7.77002852e-02],\n",
       "       [ 1.43751156e-09,  1.09971489e-04,  1.55928674e+00,\n",
       "        -3.79817822e-03,  2.64415205e-06,  3.83098593e-01,\n",
       "        -6.27963749e-04, -2.78944200e-02, -1.48864595e-02,\n",
       "        -8.73796044e-03, -8.04669469e-08, -3.63224666e-06,\n",
       "         9.38902381e-08, -6.20129450e-01, -5.34724702e-03,\n",
       "        -2.30044717e-13, -8.83308780e-13, -4.75977530e-06,\n",
       "         5.22592539e-09, -2.58026270e-03, -1.60647804e-10,\n",
       "        -4.91778863e-01,  6.12516124e-02, -1.87087142e-04,\n",
       "        -9.61806846e-06, -1.30704839e+00, -0.00000000e+00,\n",
       "         5.45566517e-02, -5.62375700e-11,  3.40103788e-05,\n",
       "        -1.22156052e-03, -4.50160904e-14, -5.38794601e-03,\n",
       "         1.29357372e-03, -1.23489353e-11, -4.41812626e-02,\n",
       "        -8.88624635e-03, -4.05634222e-03, -4.42010061e-03,\n",
       "        -5.48367421e-08, -4.58168123e-05,  6.19373763e-01,\n",
       "         3.47155142e-05,  3.99325777e-08,  6.58152563e-10,\n",
       "        -6.02306102e-02,  1.84050483e+00,  6.33367355e-03,\n",
       "         3.74796680e-05, -1.66321818e-09, -1.15870495e-05,\n",
       "         5.69671921e-16, -6.96489655e-07,  7.60389910e-06,\n",
       "         1.21979576e-08,  3.05600854e-02, -1.81198820e-03,\n",
       "        -2.07429884e-04,  1.70611961e-02,  0.00000000e+00,\n",
       "         3.69117922e-13,  1.56494385e-08, -9.30290682e-14,\n",
       "        -2.14213560e-02],\n",
       "       [ 2.81095080e-06,  4.54328198e-07,  2.61138280e-06,\n",
       "         2.18624891e-04,  3.45753036e-06, -1.01952722e-02,\n",
       "        -1.99531385e-03, -1.05240553e-13,  9.08073912e-05,\n",
       "         4.07863853e-12, -8.71821220e-11, -5.96309464e-14,\n",
       "        -4.46714819e-08, -0.00000000e+00, -2.44312279e-01,\n",
       "         2.60856036e-03, -3.23893671e-07, -8.58527823e-06,\n",
       "        -3.50564857e-15, -4.80182968e-08,  2.61781309e-05,\n",
       "        -9.25093187e-02,  3.48561995e-07, -1.06270902e-02,\n",
       "        -2.75088518e-05, -3.62298312e-02,  2.69548536e-05,\n",
       "         1.23928825e-02,  1.60883210e+00,  4.15985872e-01,\n",
       "        -1.55112845e-01, -2.61443887e-02,  2.54320766e-07,\n",
       "         1.32031883e-04, -3.52959284e-06,  4.38551128e-11,\n",
       "         4.08377990e-02,  5.16441919e-06, -8.67308132e-01,\n",
       "        -2.13902567e-03, -4.73671198e-03,  1.44799733e+00,\n",
       "         2.89912054e-02, -1.19342958e-02, -3.44249593e-03,\n",
       "         4.24819274e-04,  2.09718582e-04, -7.21457197e-16,\n",
       "         4.73933979e-13, -4.09462233e-03,  1.11625415e-06,\n",
       "        -4.70002364e-10,  4.49127616e-13,  1.20009558e-02,\n",
       "         1.70740309e-09,  1.35024743e-05,  1.54118497e-12,\n",
       "         4.81850059e-01,  1.05401067e-10,  3.16368211e-04,\n",
       "        -1.90044243e-07,  1.02698525e-07, -1.93244440e-10,\n",
       "        -2.35495619e-04],\n",
       "       [-2.29015211e-02,  1.30969184e-02,  5.88319549e-06,\n",
       "        -2.17487539e-07,  1.51301569e-11, -7.62404276e-09,\n",
       "         7.11063065e-03,  1.57767553e-13, -1.82163158e-10,\n",
       "         1.63468577e-06, -3.59803236e-15, -1.28169459e-14,\n",
       "         2.26335788e-01, -1.57655568e-04, -4.97007693e-02,\n",
       "        -1.94673362e-03, -1.40432516e-14, -1.90140116e+00,\n",
       "         3.96539265e-09,  1.30973396e-06, -5.44570625e-07,\n",
       "         1.17955249e-08,  1.65938243e-03, -3.08936612e-08,\n",
       "        -3.75513851e-04, -4.16249608e-04, -5.06860884e-14,\n",
       "         8.14404922e-16,  4.38066493e-03, -3.45553822e-02,\n",
       "        -1.82974679e-04, -6.89011473e-04, -1.55853136e-05,\n",
       "         1.14484703e-05, -3.53089194e-07,  6.19508439e-01,\n",
       "         7.52140170e-02,  2.83509737e-01, -3.49731884e-07,\n",
       "        -2.79697032e-02, -1.03355429e-09,  6.44943101e-01,\n",
       "         2.84056603e-05, -2.75994132e-01,  8.52262983e-05,\n",
       "         4.31740143e-07,  2.97851287e-08, -4.41676497e-02,\n",
       "        -2.15205838e-01,  1.20830000e-15,  4.35235796e-02,\n",
       "        -3.89286230e-05, -5.04679800e-11,  3.61466662e-07,\n",
       "         5.53688385e-03,  1.16547299e-11,  2.81988042e-13,\n",
       "        -1.19691608e-04,  5.59970079e-01, -1.10228749e-13,\n",
       "        -1.39822517e-01,  1.15673088e-06, -3.66523835e-13,\n",
       "        -3.34053885e-07]])"
      ]
     },
     "execution_count": 39,
     "metadata": {},
     "output_type": "execute_result"
    }
   ],
   "source": [
    "delta_j* g_prime_a"
   ]
  },
  {
   "cell_type": "code",
   "execution_count": 40,
   "id": "2c999e02",
   "metadata": {},
   "outputs": [
    {
     "data": {
      "text/plain": [
       "(64, 64)"
      ]
     },
     "execution_count": 40,
     "metadata": {},
     "output_type": "execute_result"
    }
   ],
   "source": [
    "lj = nn.layers[-3]\n",
    "lj.w.shape"
   ]
  },
  {
   "cell_type": "code",
   "execution_count": 41,
   "id": "462f2996",
   "metadata": {},
   "outputs": [
    {
     "data": {
      "text/plain": [
       "(5, 10)"
      ]
     },
     "execution_count": 41,
     "metadata": {},
     "output_type": "execute_result"
    }
   ],
   "source": [
    "delta_k.shape # n_sample * n_dimen, summing over all k dimesions"
   ]
  },
  {
   "cell_type": "code",
   "execution_count": 42,
   "id": "6aef1fc5",
   "metadata": {},
   "outputs": [],
   "source": [
    "nn.backward()"
   ]
  },
  {
   "cell_type": "code",
   "execution_count": 43,
   "id": "3baceaf8",
   "metadata": {},
   "outputs": [
    {
     "data": {
      "text/plain": [
       "True"
      ]
     },
     "execution_count": 43,
     "metadata": {},
     "output_type": "execute_result"
    }
   ],
   "source": [
    "nn.layers[-1].gradient.shape == nn.layers[-1].w.shape"
   ]
  },
  {
   "cell_type": "code",
   "execution_count": 44,
   "id": "dbdd91ad",
   "metadata": {},
   "outputs": [
    {
     "data": {
      "text/plain": [
       "(10,)"
      ]
     },
     "execution_count": 44,
     "metadata": {},
     "output_type": "execute_result"
    }
   ],
   "source": [
    "nn.layers[-1].bias_gradient.shape"
   ]
  },
  {
   "cell_type": "code",
   "execution_count": 45,
   "id": "2abf4bce",
   "metadata": {},
   "outputs": [
    {
     "data": {
      "text/plain": [
       "array([-0.3357847 ,  1.66902153, -0.25959135, -1.50314295, -0.24574306,\n",
       "       -0.27272357, -2.69688664, -0.05429487, -0.23093453,  0.69620636])"
      ]
     },
     "execution_count": 45,
     "metadata": {},
     "output_type": "execute_result"
    }
   ],
   "source": [
    "nn.layers[-1].b"
   ]
  },
  {
   "cell_type": "markdown",
   "id": "a1037c40",
   "metadata": {},
   "source": [
    "# Numerical approximation results"
   ]
  },
  {
   "cell_type": "code",
   "execution_count": 46,
   "id": "f1213ef1",
   "metadata": {},
   "outputs": [],
   "source": [
    "import copy\n",
    "def numerical_approximation_hidden(X, y,episilon = 0.01, n_layer = -1, index = (0,0)):\n",
    "    \n",
    "    # calculate w+E\n",
    "    \n",
    "    # start new nn\n",
    "    brandnew_nn = Neuralnetwork(c)\n",
    "    \n",
    "    # original grad\n",
    "    y_hat = brandnew_nn.forward(X)\n",
    "    loss = brandnew_nn.loss(y_hat, y)\n",
    "    brandnew_nn.backward()\n",
    "    grad = brandnew_nn.layers[n_layer].gradient[index]\n",
    "    \n",
    "    \n",
    "    new_nn=copy.deepcopy(brandnew_nn)\n",
    "    new_nn.layers[n_layer].w[index]+= episilon\n",
    "    y_hat1 = new_nn.forward(X)\n",
    "    loss_plus = new_nn.loss(y_hat1, y)\n",
    "    \n",
    "    new_nn2=copy.deepcopy(brandnew_nn)\n",
    "    new_nn2.layers[n_layer].w[index]-= episilon\n",
    "    y_hat2 = new_nn2.forward(X)\n",
    "    loss_minus = new_nn2.loss(y_hat2, y)\n",
    "    \n",
    "    \n",
    "    return grad, (loss_plus-loss_minus)/(2*episilon)\n",
    "\n",
    "def numerical_approximation_bias(X, y,episilon = 0.01, n_layer = -1, index = (0)):\n",
    "    \n",
    "    # calculate w+E\n",
    "    \n",
    "    brandnew_nn = Neuralnetwork(c)\n",
    "    \n",
    "    # original grad\n",
    "    y_hat = brandnew_nn.forward(X)\n",
    "    loss = brandnew_nn.loss(y_hat, y)\n",
    "    brandnew_nn.backward()\n",
    "    grad = brandnew_nn.layers[n_layer].bias_gradient[index]\n",
    "    \n",
    "    \n",
    "    new_nn=copy.deepcopy(brandnew_nn)\n",
    "    new_nn.layers[n_layer].b[index]+= episilon\n",
    "    y_hat1 = new_nn.forward(X)\n",
    "    loss_plus = new_nn.loss(y_hat1, y)\n",
    "    \n",
    "    \n",
    "    new_nn2=copy.deepcopy(brandnew_nn)\n",
    "    new_nn2.layers[n_layer].b[index]-= episilon\n",
    "    y_hat2 = new_nn2.forward(X)\n",
    "    loss_minus = new_nn2.loss(y_hat2, y)\n",
    "#     \n",
    "    return grad, (loss_plus-loss_minus)/(2*episilon)\n",
    "\n",
    "    \n",
    "    \n",
    "    \n",
    "    "
   ]
  },
  {
   "cell_type": "code",
   "execution_count": null,
   "id": "06fe71c2",
   "metadata": {},
   "outputs": [],
   "source": []
  },
  {
   "cell_type": "code",
   "execution_count": 47,
   "id": "c20a4a08",
   "metadata": {},
   "outputs": [
    {
     "name": "stdout",
     "output_type": "stream",
     "text": [
      "-9.108653784205686 -8.108652716725828\n",
      "1.4974968385543534 0.4975021194212559\n",
      "0.23688257091318426 0.23688465133915315\n",
      "0.493485946290016 0.49348788877665584\n",
      "1.733106259102565 1.7331033438935606\n",
      "2.0976702548829045 2.0976716158926934\n",
      "0.02967088587684566 0.029671338648995516\n",
      "1.9755818259687734 1.9755804887935824\n",
      "0.0656061188566352 0.06560708668104098\n",
      "0.9791530837604073 0.9791535060756473\n"
     ]
    }
   ],
   "source": [
    "# start new nn\n",
    "X = d.X_train[:10, :]\n",
    "y = d.y_train[:10]\n",
    "n_layer = -1\n",
    "index = 0\n",
    "episilon = 0.01\n",
    "brandnew_nn = Neuralnetwork(c)\n",
    "\n",
    "for index in range(10):\n",
    "    \n",
    "    # original grad\n",
    "    y_hat = brandnew_nn.forward(X)\n",
    "    loss = brandnew_nn.loss(y_hat, y)\n",
    "    brandnew_nn.backward()\n",
    "    grad = brandnew_nn.layers[n_layer].bias_gradient[index]\n",
    "\n",
    "\n",
    "    new_nn=copy.deepcopy(brandnew_nn)\n",
    "    new_nn.layers[n_layer].b[index]+= episilon\n",
    "    y_hat1 = new_nn.forward(X)\n",
    "    loss_plus = new_nn.loss(y_hat1, y)\n",
    "    \n",
    "\n",
    "    new_nn2=copy.deepcopy(brandnew_nn)\n",
    "    new_nn2.layers[n_layer].b[index]-= episilon\n",
    "    y_hat2 = new_nn2.forward(X)\n",
    "    loss_minus = new_nn2.loss(y_hat2, y)\n",
    "    \n",
    "\n",
    "    approx_grad = (loss_plus-loss_minus)/(2*episilon)\n",
    "    \n",
    "    print(grad,approx_grad)\n"
   ]
  },
  {
   "cell_type": "code",
   "execution_count": 48,
   "id": "83729f1f",
   "metadata": {},
   "outputs": [
    {
     "name": "stdout",
     "output_type": "stream",
     "text": [
      "True\n",
      "True\n",
      "False\n"
     ]
    }
   ],
   "source": [
    "for n in range(len(brandnew_nn.layers)):\n",
    "    try:\n",
    "        print(np.all(brandnew_nn.layers[n].b==new_nn2.layers[n].b))\n",
    "    except:\n",
    "        pass"
   ]
  },
  {
   "cell_type": "code",
   "execution_count": 49,
   "id": "8df06a7f",
   "metadata": {},
   "outputs": [
    {
     "name": "stdout",
     "output_type": "stream",
     "text": [
      "True\n",
      "True\n",
      "True\n"
     ]
    }
   ],
   "source": [
    "for n in range(len(brandnew_nn.layers)):\n",
    "    try:\n",
    "        print(np.all(brandnew_nn.layers[n].w==new_nn2.layers[n].w))\n",
    "    except:\n",
    "        pass"
   ]
  },
  {
   "cell_type": "code",
   "execution_count": 50,
   "id": "3e5e6066",
   "metadata": {},
   "outputs": [
    {
     "data": {
      "text/plain": [
       "(133.64578430511983, 133.65559067485566, 133.63600760473415)"
      ]
     },
     "execution_count": 50,
     "metadata": {},
     "output_type": "execute_result"
    }
   ],
   "source": [
    "loss, loss_plus, loss_minus"
   ]
  },
  {
   "cell_type": "code",
   "execution_count": 51,
   "id": "85b70150",
   "metadata": {},
   "outputs": [
    {
     "data": {
      "text/plain": [
       "array([-9.10865378,  1.49749684,  0.23688257,  0.49348595,  1.73310626,\n",
       "        2.09767025,  0.02967089,  1.97558183,  0.06560612,  0.97915308])"
      ]
     },
     "execution_count": 51,
     "metadata": {},
     "output_type": "execute_result"
    }
   ],
   "source": [
    "brandnew_nn.layers[n_layer].bias_gradient"
   ]
  },
  {
   "cell_type": "code",
   "execution_count": 52,
   "id": "e9c83464",
   "metadata": {},
   "outputs": [],
   "source": [
    "delta = brandnew_nn.targets-brandnew_nn.y"
   ]
  },
  {
   "cell_type": "code",
   "execution_count": 53,
   "id": "f11502a2",
   "metadata": {},
   "outputs": [
    {
     "data": {
      "text/plain": [
       "(10, 10)"
      ]
     },
     "execution_count": 53,
     "metadata": {},
     "output_type": "execute_result"
    }
   ],
   "source": [
    "delta.shape #delta_j= dj/da"
   ]
  },
  {
   "cell_type": "code",
   "execution_count": 54,
   "id": "eeff15b6",
   "metadata": {},
   "outputs": [
    {
     "data": {
      "text/plain": [
       "array([ 9.10865378, -1.49749684, -0.23688257, -0.49348595, -1.73310626,\n",
       "       -2.09767025, -0.02967089, -1.97558183, -0.06560612, -0.97915308])"
      ]
     },
     "execution_count": 54,
     "metadata": {},
     "output_type": "execute_result"
    }
   ],
   "source": [
    "delta.sum(axis =0)"
   ]
  },
  {
   "cell_type": "code",
   "execution_count": 55,
   "id": "0072d59a",
   "metadata": {},
   "outputs": [
    {
     "data": {
      "text/plain": [
       "array([[ 0.99999994, -1.        ,  0.12797093,  0.99992443,  0.50195904,\n",
       "         0.9996016 ,  0.9243783 ,  0.99999571,  0.2916629 ,  0.9999995 ,\n",
       "         0.99947498, -1.        ,  0.2152123 ,  1.        ,  1.        ,\n",
       "         0.99999995, -0.80694626, -0.96834906, -0.11859835, -1.        ,\n",
       "        -0.66828041, -0.08788433,  0.99987015,  1.        , -0.99976667,\n",
       "        -0.99999185,  0.99999996, -0.99759273,  0.99999999, -0.9644588 ,\n",
       "         0.93682382,  1.        , -0.99981345,  0.9953653 ,  0.99918296,\n",
       "        -0.99999653,  0.98501498, -0.99564628, -0.9999896 ,  0.99995593,\n",
       "        -1.        , -0.87143268,  0.0362093 ,  1.        , -1.        ,\n",
       "         0.99519419,  0.99999636,  0.83082138,  0.99985123, -0.99999862,\n",
       "        -0.98953658,  0.99911373,  0.84400622,  0.99999895, -1.        ,\n",
       "         0.99997771, -0.98878083, -0.83447743,  0.19362504,  0.98280143,\n",
       "        -1.        ,  0.99999937,  1.        ,  0.98441089],\n",
       "       [-0.99304807, -0.99994903,  0.99992964, -0.99999995, -0.99964644,\n",
       "        -0.99922424, -0.9999987 , -1.        ,  0.99999921, -0.83339999,\n",
       "         0.99762094, -0.9991935 , -0.9999956 , -0.9999999 ,  0.85412501,\n",
       "        -0.99927125,  0.99999929,  0.8884265 ,  0.99999986, -1.        ,\n",
       "         0.453716  , -0.94783775, -0.9996263 , -0.99999992, -0.99999291,\n",
       "        -0.99958737, -0.9994843 ,  0.99999732, -0.24178119,  1.        ,\n",
       "        -0.98677993,  0.99405623,  0.99524726,  1.        , -0.99927407,\n",
       "         0.09990178,  1.        ,  0.99989467, -0.81939648,  1.        ,\n",
       "         1.        ,  0.30714867,  0.67680565,  0.99999995,  0.93444558,\n",
       "         0.98252995,  0.99999977, -0.99970267, -1.        , -1.        ,\n",
       "        -0.99999329, -0.84953308, -0.99999974, -1.        ,  1.        ,\n",
       "        -1.        ,  0.99989345,  0.99997938,  1.        ,  1.        ,\n",
       "        -1.        , -0.9999999 , -0.99999999, -0.96254159],\n",
       "       [ 1.        ,  0.97595285, -0.27950465,  0.99922582,  0.99999767,\n",
       "        -0.6780766 , -0.99892971,  0.9880754 ,  0.98701089,  0.99497457,\n",
       "         0.99999996,  0.99999904, -0.99999997,  0.78550666,  0.99752061,\n",
       "        -1.        ,  1.        , -0.99996771,  1.        , -0.99900932,\n",
       "         1.        ,  0.35928896, -0.9926496 ,  0.9999012 , -0.9999929 ,\n",
       "        -0.63252663,  1.        , -0.99047355,  1.        , -0.9999403 ,\n",
       "         0.99772529,  1.        ,  0.99457744, -0.9992689 ,  1.        ,\n",
       "        -0.98084559, -0.99560593,  0.99570735,  0.99076144,  0.99999998,\n",
       "         0.99997698, -0.81406196,  0.99994316,  0.99999998, -1.        ,\n",
       "        -0.9699607 , -0.21471917, -0.99843634, -0.99997736, -1.        ,\n",
       "         0.99999411, -1.        ,  0.99999984, -0.99999835, -1.        ,\n",
       "        -0.93480339,  0.99949249, -0.99993744, -0.98861817,  1.        ,\n",
       "        -1.        ,  0.99999999,  1.        , -0.99667023],\n",
       "       [-0.99999804,  0.99999742,  0.99999903, -0.99982527, -0.9999988 ,\n",
       "         0.99132274,  0.99945418, -1.        , -0.99983182, -1.        ,\n",
       "         1.        ,  1.        , -0.99999998, -1.        ,  0.73231874,\n",
       "        -0.99862291,  0.99999988,  0.99999751,  1.        ,  0.99999997,\n",
       "        -0.99998972, -0.68637771, -0.99999986,  0.99608024,  0.99996974,\n",
       "         0.9763651 , -0.9999581 ,  0.99375196, -0.4552654 ,  0.34099659,\n",
       "         0.91343827, -0.9427773 ,  0.9999999 ,  0.99952075,  0.99999829,\n",
       "        -1.        , -0.97740307, -0.99999668, -0.37754237,  0.99764532,\n",
       "         0.99892596,  0.01890662,  0.97915323, -0.99516404,  0.99343035,\n",
       "         0.99970991, -0.99995174, -1.        , -1.        , -0.9961793 ,\n",
       "        -0.99999961,  1.        , -1.        , -0.98992205,  1.        ,\n",
       "        -0.99998645,  1.        ,  0.88291997,  1.        ,  0.99973049,\n",
       "        -0.99999991,  0.9999999 , -1.        ,  0.99812039],\n",
       "       [-0.85217513,  0.99258905, -0.9999984 ,  0.99999986, -1.        ,\n",
       "        -0.99999999, -0.98111895,  1.        , -1.        , -0.99999689,\n",
       "         1.        ,  1.        , -0.91300731, -0.99986136, -0.6747021 ,\n",
       "        -0.99691038,  1.        , -0.61866042, -1.        ,  0.99999876,\n",
       "         0.99999991,  0.99999998, -0.99958952, -0.99999999, -0.99984394,\n",
       "         0.99990079,  1.        , -1.        ,  0.99660919, -0.97664581,\n",
       "        -0.99986804,  0.99877279,  0.99998753, -0.99998997,  0.99999972,\n",
       "        -0.5397792 , -0.96191326,  0.6827333 ,  0.99999925,  0.99324183,\n",
       "         1.        , -0.14852733, -0.99999568,  0.85785545, -0.99996736,\n",
       "        -0.99999974,  0.99999999, -0.97991478,  0.84714783, -1.        ,\n",
       "         0.98485435, -0.99992372,  1.        ,  0.99999986, -0.99782336,\n",
       "         1.        , -1.        , -0.99994161, -0.58739847,  1.        ,\n",
       "         0.85930994, -0.99999898,  1.        , -0.99999976],\n",
       "       [-0.99999877,  0.99936179,  1.        , -0.99999986,  0.98561452,\n",
       "         1.        ,  0.99600188, -1.        ,  0.99999991,  0.9999997 ,\n",
       "        -0.92776173,  0.99432683, -0.99984071, -1.        , -1.        ,\n",
       "         0.26626878, -0.9999999 ,  0.99999999,  0.99996775,  0.99999988,\n",
       "        -1.        , -0.99997877,  1.        ,  0.99388058,  0.62160425,\n",
       "         0.99999673, -0.99995017, -0.99999688, -0.99978984,  0.99663197,\n",
       "        -0.77647451, -0.99998988, -0.99999975, -0.99836028, -1.        ,\n",
       "         0.71250648,  0.8994438 ,  0.97974945, -0.99999988,  1.        ,\n",
       "         0.99999999,  0.99981241,  1.        , -0.99984134,  1.        ,\n",
       "         1.        , -0.99962018, -0.99972374, -1.        , -1.        ,\n",
       "         0.82796142,  1.        , -0.99999907, -0.9999624 ,  1.        ,\n",
       "         0.99945748,  1.        ,  0.78133923,  0.99999999, -0.99999092,\n",
       "        -1.        , -0.9998873 , -1.        , -0.99982707],\n",
       "       [ 0.97999846, -0.87304766,  1.        , -1.        , -0.99993075,\n",
       "         1.        ,  1.        , -1.        , -0.99814488, -0.99994098,\n",
       "        -1.        ,  0.99999837,  0.97665615, -0.99949557, -1.        ,\n",
       "        -0.99999522,  1.        , -0.88669438, -0.99975981, -0.44809749,\n",
       "         1.        ,  0.99997301, -0.9999996 , -1.        , -1.        ,\n",
       "        -1.        , -0.99999966, -0.99998288,  0.96503091, -0.98646796,\n",
       "         0.99777617, -0.99992142,  0.87402334,  0.94665579, -1.        ,\n",
       "        -0.99999431,  0.99992063, -1.        , -0.8961189 , -1.        ,\n",
       "         0.99999884,  0.99998341,  0.99969111, -1.        ,  0.99999488,\n",
       "        -0.83107184, -0.99673619,  0.99730243, -0.99999999, -1.        ,\n",
       "        -1.        , -0.72931393, -0.99999731, -1.        ,  0.99999953,\n",
       "        -0.2546834 , -0.94995672,  0.90805035,  0.16941268, -0.98407148,\n",
       "         1.        , -0.99999072, -0.99999989,  0.99995801],\n",
       "       [ 0.99999985,  1.        , -0.99999835,  1.        , -0.9821457 ,\n",
       "        -0.99999999, -1.        ,  1.        , -0.45325277, -0.99999476,\n",
       "         0.99999972, -0.44308846,  0.99963285,  1.        ,  0.99607918,\n",
       "        -1.        ,  1.        , -0.99997958,  0.99957867, -0.93609728,\n",
       "        -0.99955069, -0.99943501, -0.52721694,  0.99999999,  1.        ,\n",
       "        -0.4561586 ,  1.        ,  0.99987623,  1.        , -0.9999999 ,\n",
       "        -1.        ,  1.        , -0.23922603,  0.98126671,  1.        ,\n",
       "        -0.87358542, -1.        ,  0.9995868 ,  0.97895901, -0.99228568,\n",
       "        -0.99999707, -0.83517104,  1.        ,  0.92156711, -0.99999988,\n",
       "        -0.99999989, -0.94648245, -0.81716193, -0.40157392,  1.        ,\n",
       "        -0.18133198, -1.        ,  0.99999929,  0.99996996, -1.        ,\n",
       "         0.99999057, -0.99738921, -0.97644188,  1.        ,  0.99994857,\n",
       "        -0.99985865, -0.949109  ,  0.99999962, -0.9917127 ],\n",
       "       [ 0.9999995 , -0.99999999,  0.20676424,  0.99999078, -0.99825201,\n",
       "         0.99990729,  0.99996166,  0.71935935, -0.99958506, -1.        ,\n",
       "         1.        ,  0.27125578,  0.99898454,  1.        ,  0.32861702,\n",
       "        -1.        ,  0.99302099, -0.99999992,  0.99999998, -0.43166826,\n",
       "        -0.99275225,  0.99973625, -1.        , -0.06389159, -0.99999588,\n",
       "        -1.        ,  0.83534935, -1.        , -0.82519051, -0.99999994,\n",
       "        -0.99999997,  0.99982182, -0.99888522, -1.        ,  0.99993943,\n",
       "        -0.99999972, -0.99999216,  0.99999989, -0.9999071 , -0.99821144,\n",
       "         0.9942908 , -0.99999307,  0.92527366, -0.99999753, -0.24541217,\n",
       "         0.9689849 ,  0.99951558, -1.        , -1.        , -0.87479754,\n",
       "        -0.17519515, -0.99999969,  0.99999998,  0.09596118,  0.83711439,\n",
       "         0.99934784, -0.97348621, -0.99999609,  0.99992845, -0.99904492,\n",
       "         0.9146263 , -0.99999972,  0.99999323,  1.        ],\n",
       "       [-0.99999999, -0.99910542,  0.56420541, -1.        ,  0.9997388 ,\n",
       "         0.99977942,  0.99999986, -1.        ,  0.96765088,  1.        ,\n",
       "         0.47909648, -0.99999848, -0.99999995, -0.99999969,  0.99999999,\n",
       "        -0.99939287, -1.        ,  0.99999982, -0.97708657, -0.98397462,\n",
       "         0.99999908, -0.99999214, -0.56504724, -0.99967525, -1.        ,\n",
       "         0.99999864, -1.        , -0.99965392, -1.        , -0.93314171,\n",
       "         1.        ,  0.99999016, -0.6336596 , -0.99999976, -0.95777484,\n",
       "        -0.99999327,  0.9628724 ,  1.        ,  0.55393659,  0.99999989,\n",
       "        -1.        ,  0.9999994 ,  0.99974714, -0.99999907,  0.99886099,\n",
       "         1.        , -1.        , -0.99999985, -0.98546703, -0.99991071,\n",
       "        -0.99987492,  0.99997937, -0.99996392,  0.93376676, -0.99999974,\n",
       "        -0.99696916,  1.        , -0.99996156, -1.        , -0.99996911,\n",
       "        -0.94925875, -0.99894388, -1.        , -0.9992824 ]])"
      ]
     },
     "execution_count": 55,
     "metadata": {},
     "output_type": "execute_result"
    }
   ],
   "source": [
    "brandnew_nn.layers[n_layer].x"
   ]
  },
  {
   "cell_type": "code",
   "execution_count": 56,
   "id": "d34f416b",
   "metadata": {},
   "outputs": [
    {
     "data": {
      "text/plain": [
       "0.9791535060756473"
      ]
     },
     "execution_count": 56,
     "metadata": {},
     "output_type": "execute_result"
    }
   ],
   "source": [
    "approx_grad"
   ]
  },
  {
   "cell_type": "code",
   "execution_count": 57,
   "id": "da0462ca",
   "metadata": {},
   "outputs": [
    {
     "data": {
      "text/plain": [
       "0.9791530837604073"
      ]
     },
     "execution_count": 57,
     "metadata": {},
     "output_type": "execute_result"
    }
   ],
   "source": [
    "grad"
   ]
  },
  {
   "cell_type": "code",
   "execution_count": 58,
   "id": "a4a8af92",
   "metadata": {},
   "outputs": [
    {
     "data": {
      "text/plain": [
       "array([ 0.  ,  0.  ,  0.  ,  0.  ,  0.  ,  0.  ,  0.  ,  0.  ,  0.  ,\n",
       "       -0.01])"
      ]
     },
     "execution_count": 58,
     "metadata": {},
     "output_type": "execute_result"
    }
   ],
   "source": [
    "new_nn2.layers[n_layer].b-brandnew_nn.layers[n_layer].b"
   ]
  },
  {
   "cell_type": "code",
   "execution_count": 59,
   "id": "6322fe8b",
   "metadata": {},
   "outputs": [
    {
     "data": {
      "text/plain": [
       "array([0.  , 0.  , 0.  , 0.  , 0.  , 0.  , 0.  , 0.  , 0.  , 0.01])"
      ]
     },
     "execution_count": 59,
     "metadata": {},
     "output_type": "execute_result"
    }
   ],
   "source": [
    "new_nn.layers[n_layer].b-brandnew_nn.layers[n_layer].b"
   ]
  },
  {
   "cell_type": "code",
   "execution_count": 60,
   "id": "4cfae8d5",
   "metadata": {},
   "outputs": [
    {
     "data": {
      "text/plain": [
       "<neuralnet.Layer at 0x2b77d2d64290>"
      ]
     },
     "execution_count": 60,
     "metadata": {},
     "output_type": "execute_result"
    }
   ],
   "source": [
    "brandnew_nn.layers[n_layer]"
   ]
  },
  {
   "cell_type": "code",
   "execution_count": 61,
   "id": "92fc6930",
   "metadata": {},
   "outputs": [
    {
     "data": {
      "text/plain": [
       "(5, 10)"
      ]
     },
     "execution_count": 61,
     "metadata": {},
     "output_type": "execute_result"
    }
   ],
   "source": [
    "nn.targets.shape"
   ]
  },
  {
   "cell_type": "code",
   "execution_count": 62,
   "id": "43172c55",
   "metadata": {},
   "outputs": [
    {
     "data": {
      "text/plain": [
       "(5, 10)"
      ]
     },
     "execution_count": 62,
     "metadata": {},
     "output_type": "execute_result"
    }
   ],
   "source": [
    "nn.y.shape"
   ]
  },
  {
   "cell_type": "code",
   "execution_count": 63,
   "id": "8f81f6b1",
   "metadata": {},
   "outputs": [
    {
     "name": "stdout",
     "output_type": "stream",
     "text": [
      "(8.237210249428654e-08, 8.236966664298961e-08)\n",
      "(0.0, 0.0)\n",
      "(1.9771138395746162, 1.9771138333268823)\n",
      "(-0.00021524977590501514, -0.00021524977356079944)\n",
      "(1.6583892313707014, 1.658389230030366)\n",
      "(-0.0005631563423002168, -0.0005631563482211277)\n",
      "(-0.18797428312165937, -0.18797428412042905)\n",
      "(2.5584106296389426e-05, 2.558412148800926e-05)\n",
      "(0.538731917064137, 0.538731915735724)\n",
      "(4.937341114061543e-07, 4.937383835112996e-07)\n"
     ]
    }
   ],
   "source": [
    "X = d.X_train[:1, :]\n",
    "y = d.y_train[:1]\n",
    "for i in range(10):\n",
    "    print(numerical_approximation_hidden(X, y, n_layer = -3, episilon = 0.0001, index = (5,i)))"
   ]
  },
  {
   "cell_type": "code",
   "execution_count": 64,
   "id": "9711606b",
   "metadata": {},
   "outputs": [
    {
     "name": "stdout",
     "output_type": "stream",
     "text": [
      "(0.038915184376414357, 0.03891518304044439)\n",
      "(0.13230343528848043, 0.1321934644238354)\n",
      "(3.996133793618582, 2.4368470442936996)\n",
      "(-0.003925007193754767, -0.00012682903616223484)\n",
      "(1.7229276456256684, 1.722925000677833)\n",
      "(0.37853218035420877, -0.004566412741269232)\n",
      "(-0.19527689056174447, -0.1946489280157948)\n",
      "(-0.25022904495318765, -0.22233462516396685)\n",
      "(0.6318825362014749, 0.6467689914302355)\n",
      "(-0.04655549372738388, -0.0378175333537456)\n"
     ]
    }
   ],
   "source": [
    "X = d.X_train[:10, :]\n",
    "y = d.y_train[:10]\n",
    "for i in range(10):\n",
    "    print(numerical_approximation_hidden(X, y, n_layer = -3, episilon = 0.0001, index = (5,i)))"
   ]
  },
  {
   "cell_type": "code",
   "execution_count": 65,
   "id": "b07e109f",
   "metadata": {},
   "outputs": [
    {
     "name": "stdout",
     "output_type": "stream",
     "text": [
      "(-9.108653784205686, -8.108653773518881)\n",
      "(1.4974968385543534, 0.4974996655278119)\n",
      "(0.23688257091318426, 0.23688258818310715)\n",
      "(0.493485946290016, 0.49348558336248516)\n",
      "(1.733106259102565, 1.733104447396272)\n",
      "(2.0976702548829045, 2.097670268483398)\n",
      "(0.02967088587684566, 0.02967089035621484)\n",
      "(1.9755818259687734, 1.975581207446453)\n",
      "(0.0656061188566352, 0.06560612845873948)\n",
      "(0.9791530837604073, 0.9791530875844501)\n"
     ]
    }
   ],
   "source": [
    "for i in range(10):\n",
    "    print(numerical_approximation_bias(X, y, episilon = 0.001, index = i))"
   ]
  },
  {
   "cell_type": "code",
   "execution_count": 66,
   "id": "64524530",
   "metadata": {},
   "outputs": [
    {
     "name": "stdout",
     "output_type": "stream",
     "text": [
      "(0.03902004875025039, 0.039020077096552086)\n",
      "(0.13380291721692056, 0.1339129546664708)\n",
      "(-5.670613241469896, -4.111325515907538)\n",
      "(0.0037838301593951297, -1.4348074728331994e-05)\n",
      "(-1.735579100360573, -1.73557636985322)\n",
      "(-0.37254563447757566, 0.01055296534957506)\n",
      "(0.18490350233164624, 0.18427563439615824)\n",
      "(0.250229053696479, 0.22233467456089784)\n",
      "(-0.5628531055223703, -0.5777390694845508)\n",
      "(-0.02909346721438692, -0.03783143606028716)\n"
     ]
    }
   ],
   "source": [
    "for i in range(10):\n",
    "    print(numerical_approximation_bias(X, y, n_layer = -3, episilon = 0.001, index = i))"
   ]
  },
  {
   "cell_type": "code",
   "execution_count": 67,
   "id": "4cfdca39",
   "metadata": {},
   "outputs": [],
   "source": [
    "%load_ext autoreload\n",
    "\n",
    "%autoreload 2"
   ]
  },
  {
   "cell_type": "code",
   "execution_count": 70,
   "id": "c94c3a73",
   "metadata": {},
   "outputs": [],
   "source": [
    "ind=np.random.randint(low =0, high = X.shape[0], size = 200)\n",
    "X = d.X_train[ind, :]\n",
    "y = d.y_train[ind]\n",
    "\n",
    "ind=np.random.randint(low =0, high = 5000, size = 30)\n",
    "X_val = d.X_val[ind, :]\n",
    "y_val = d.y_val[ind]\n",
    "\n",
    "nn.batch_size = 50 # small batch size will not yeild nan\n",
    "tloss, vloss = train(nn, X, y, X_val,y_val,c)"
   ]
  },
  {
   "cell_type": "code",
   "execution_count": 71,
   "id": "9a0b95f1",
   "metadata": {},
   "outputs": [
    {
     "data": {
      "text/plain": [
       "<matplotlib.legend.Legend at 0x2b77d2d8d9d0>"
      ]
     },
     "execution_count": 71,
     "metadata": {},
     "output_type": "execute_result"
    },
    {
     "data": {
      "image/png": "[encoded data removed]",
      "text/plain": [
       "<Figure size 432x288 with 1 Axes>"
      ]
     },
     "metadata": {
      "needs_background": "light"
     },
     "output_type": "display_data"
    }
   ],
   "source": [
    "plt.plot(np.array(tloss), label = 'Train')\n",
    "plt.plot(np.array(vloss), label = 'Val')\n",
    "plt.legend()"
   ]
  },
  {
   "cell_type": "code",
   "execution_count": null,
   "id": "8bbbaeff",
   "metadata": {},
   "outputs": [],
   "source": []
  },
  {
   "cell_type": "code",
   "execution_count": null,
   "id": "7b0fc6dc",
   "metadata": {},
   "outputs": [],
   "source": []
  }
 ],
 "metadata": {
  "kernelspec": {
   "display_name": "Python 3 (ipykernel)",
   "language": "python",
   "name": "python3"
  },
  "language_info": {
   "codemirror_mode": {
    "name": "ipython",
    "version": 3
   },
   "file_extension": ".py",
   "mimetype": "text/x-python",
   "name": "python",
   "nbconvert_exporter": "python",
   "pygments_lexer": "ipython3",
   "version": "3.7.6"
  }
 },
 "nbformat": 4,
 "nbformat_minor": 5
}
