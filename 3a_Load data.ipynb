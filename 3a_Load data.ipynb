{
 "cells": [
  {
   "cell_type": "code",
   "execution_count": 1,
   "id": "253ec2da",
   "metadata": {},
   "outputs": [],
   "source": [
    "from dataloader import *"
   ]
  },
  {
   "cell_type": "code",
   "execution_count": 2,
   "id": "e60353e8",
   "metadata": {},
   "outputs": [],
   "source": [
    "d = DataLoader() # data loader does everything for u"
   ]
  },
  {
   "cell_type": "code",
   "execution_count": 3,
   "id": "efdb31bb",
   "metadata": {},
   "outputs": [
    {
     "data": {
      "text/plain": [
       "(45000, 3072)"
      ]
     },
     "execution_count": 3,
     "metadata": {},
     "output_type": "execute_result"
    }
   ],
   "source": [
    "d.X_train.shape # attribute X_train contains data"
   ]
  },
  {
   "cell_type": "code",
   "execution_count": 4,
   "id": "41a7270f",
   "metadata": {},
   "outputs": [
    {
     "data": {
      "text/plain": [
       "(10000, 3072)"
      ]
     },
     "execution_count": 4,
     "metadata": {},
     "output_type": "execute_result"
    }
   ],
   "source": [
    "d.X_test.shape"
   ]
  },
  {
   "cell_type": "code",
   "execution_count": 5,
   "id": "f6209775",
   "metadata": {},
   "outputs": [
    {
     "data": {
      "text/plain": [
       "(5000, 3072)"
      ]
     },
     "execution_count": 5,
     "metadata": {},
     "output_type": "execute_result"
    }
   ],
   "source": [
    "d.X_val.shape"
   ]
  },
  {
   "cell_type": "code",
   "execution_count": 6,
   "id": "4988f67c",
   "metadata": {},
   "outputs": [
    {
     "data": {
      "text/plain": [
       "array([500., 500., 500., 500., 500., 500., 500., 500., 500., 500.])"
      ]
     },
     "execution_count": 6,
     "metadata": {},
     "output_type": "execute_result"
    }
   ],
   "source": [
    "d.y_val.sum(axis = 0) # making sure the validataion has the same distribution as train"
   ]
  },
  {
   "cell_type": "code",
   "execution_count": 7,
   "id": "e8312d20",
   "metadata": {},
   "outputs": [
    {
     "data": {
      "text/plain": [
       "array([4500., 4500., 4500., 4500., 4500., 4500., 4500., 4500., 4500.,\n",
       "       4500.])"
      ]
     },
     "execution_count": 7,
     "metadata": {},
     "output_type": "execute_result"
    }
   ],
   "source": [
    "d.y_train.sum(axis = 0)"
   ]
  },
  {
   "cell_type": "code",
   "execution_count": 8,
   "id": "fc6edc52",
   "metadata": {},
   "outputs": [
    {
     "data": {
      "text/plain": [
       "-2.6789312216665428e-18"
      ]
     },
     "execution_count": 8,
     "metadata": {},
     "output_type": "execute_result"
    }
   ],
   "source": [
    "np.mean(d.X_train, axis = 0).mean() # make sure is zero mean and 1 std"
   ]
  },
  {
   "cell_type": "code",
   "execution_count": 9,
   "id": "013f04ce",
   "metadata": {},
   "outputs": [
    {
     "data": {
      "text/plain": [
       "0.9999999999999999"
      ]
     },
     "execution_count": 9,
     "metadata": {},
     "output_type": "execute_result"
    }
   ],
   "source": [
    "np.std(d.X_train, axis = 0).mean()"
   ]
  },
  {
   "cell_type": "code",
   "execution_count": 10,
   "id": "b375a754",
   "metadata": {},
   "outputs": [
    {
     "data": {
      "text/plain": [
       "0.013691289548689423"
      ]
     },
     "execution_count": 10,
     "metadata": {},
     "output_type": "execute_result"
    }
   ],
   "source": [
    "np.mean(d.X_test, axis = 0).mean()"
   ]
  },
  {
   "cell_type": "code",
   "execution_count": 11,
   "id": "fd1bfa12",
   "metadata": {},
   "outputs": [
    {
     "data": {
      "text/plain": [
       "0.00827314547767576"
      ]
     },
     "execution_count": 11,
     "metadata": {},
     "output_type": "execute_result"
    }
   ],
   "source": [
    "np.mean(d.X_val, axis = 0).mean()"
   ]
  },
  {
   "cell_type": "code",
   "execution_count": null,
   "id": "5ec4777c",
   "metadata": {},
   "outputs": [],
   "source": []
  }
 ],
 "metadata": {
  "kernelspec": {
   "display_name": "Python 3 (ipykernel)",
   "language": "python",
   "name": "python3"
  },
  "language_info": {
   "codemirror_mode": {
    "name": "ipython",
    "version": 3
   },
   "file_extension": ".py",
   "mimetype": "text/x-python",
   "name": "python",
   "nbconvert_exporter": "python",
   "pygments_lexer": "ipython3",
   "version": "3.7.6"
  }
 },
 "nbformat": 4,
 "nbformat_minor": 5
}
